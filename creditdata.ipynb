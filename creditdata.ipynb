{
 "cells": [
  {
   "cell_type": "code",
   "execution_count": null,
   "id": "82705f25",
   "metadata": {},
   "outputs": [],
   "source": [
    "import numpy as np \n",
    "import pandas as pd  \n",
    "from sklearn.model_selection import train_test_split\n",
    "from sklearn.linear_model import LogisticRegression\n",
    "from sklearn.metrics import accuracy_score"
   ]
  },
  {
   "cell_type": "code",
   "execution_count": null,
   "id": "bb7d6179",
   "metadata": {},
   "outputs": [],
   "source": [
    "credit_data = pd.read_csv('creditcard.csv')\n",
    "credit_data.head()"
   ]
  },
  {
   "cell_type": "code",
   "execution_count": null,
   "id": "2008f7fd",
   "metadata": {},
   "outputs": [],
   "source": [
    "credit_data.info()"
   ]
  },
  {
   "cell_type": "code",
   "execution_count": null,
   "id": "9008f007",
   "metadata": {},
   "outputs": [],
   "source": [
    "credit_data.describe()"
   ]
  },
  {
   "cell_type": "code",
   "execution_count": null,
   "id": "f109ba0a",
   "metadata": {},
   "outputs": [],
   "source": [
    "#always check the balancity of data\n",
    "#destribution of legit transcation and fraudulent transaction\n",
    "credit_data['Class'].value_counts()"
   ]
  },
  {
   "cell_type": "markdown",
   "id": "7377323d",
   "metadata": {},
   "source": [
    "this data is highly unbalanced\n",
    "\n",
    "\n",
    "0 --- normal transcation\n",
    " 1 -- fraud transcation"
   ]
  },
  {
   "cell_type": "code",
   "execution_count": null,
   "id": "ac11001d",
   "metadata": {},
   "outputs": [],
   "source": [
    "#separating the data for analysis\n",
    "\n",
    "legit = credit_data[credit_data.Class == 0]\n",
    "fraud = credit_data[credit_data.Class == 1]\n"
   ]
  },
  {
   "cell_type": "code",
   "execution_count": null,
   "id": "ff2e047e",
   "metadata": {},
   "outputs": [],
   "source": [
    "print(legit.shape)\n",
    "\n",
    "print(fraud.shape)"
   ]
  },
  {
   "cell_type": "code",
   "execution_count": null,
   "id": "a274211b",
   "metadata": {},
   "outputs": [],
   "source": [
    "#cheching amount column information\n",
    "legit.Amount.describe()"
   ]
  },
  {
   "cell_type": "code",
   "execution_count": null,
   "id": "55e086c3",
   "metadata": {},
   "outputs": [],
   "source": [
    "fraud.Amount.describe()"
   ]
  },
  {
   "cell_type": "code",
   "execution_count": null,
   "id": "48db5808",
   "metadata": {},
   "outputs": [],
   "source": [
    "#compare the values for both transcations\n",
    "credit_data.groupby('Class').mean()"
   ]
  },
  {
   "cell_type": "markdown",
   "id": "b1780c94",
   "metadata": {},
   "source": [
    "UNder-Sampling"
   ]
  },
  {
   "cell_type": "markdown",
   "id": "da6438ab",
   "metadata": {},
   "source": [
    "build a sample dataset containg similar distribution of normal transcations and fraudent transcatuions\n",
    "\n",
    "fraud - 492 transcations"
   ]
  },
  {
   "cell_type": "code",
   "execution_count": null,
   "id": "bd51a1bb",
   "metadata": {},
   "outputs": [],
   "source": [
    "legit_sample = legit.sample(n=492)"
   ]
  },
  {
   "cell_type": "markdown",
   "id": "bcedc7a5",
   "metadata": {},
   "source": [
    "concatenating two dataframes"
   ]
  },
  {
   "cell_type": "code",
   "execution_count": null,
   "id": "38aebffc",
   "metadata": {},
   "outputs": [],
   "source": [
    "new_dataset = pd.concat([legit_sample , fraud] , axis = 0)"
   ]
  },
  {
   "cell_type": "code",
   "execution_count": null,
   "id": "4d02b3f5",
   "metadata": {},
   "outputs": [],
   "source": [
    "new_dataset.head()"
   ]
  },
  {
   "cell_type": "code",
   "execution_count": null,
   "id": "18ca7b55",
   "metadata": {},
   "outputs": [],
   "source": [
    "new_dataset.tail()"
   ]
  },
  {
   "cell_type": "code",
   "execution_count": null,
   "id": "667be9dc",
   "metadata": {},
   "outputs": [],
   "source": [
    "new_dataset['Class'].value_counts()"
   ]
  },
  {
   "cell_type": "code",
   "execution_count": null,
   "id": "1aa41109",
   "metadata": {},
   "outputs": [],
   "source": [
    "#used to check the data is balance or not \n",
    "new_dataset.groupby('Class').mean()"
   ]
  },
  {
   "cell_type": "code",
   "execution_count": null,
   "id": "445f6806",
   "metadata": {},
   "outputs": [],
   "source": [
    "X = new_dataset.drop(columns='Class',axis=1)\n",
    "Y = new_dataset['Class']"
   ]
  },
  {
   "cell_type": "code",
   "execution_count": null,
   "id": "213ed2e6",
   "metadata": {},
   "outputs": [],
   "source": [
    "X_train , X_test , Y_train , Y_test = train_test_split(X,Y,random_state=2,test_size=0.2,stratify=Y)\n",
    "\n"
   ]
  },
  {
   "cell_type": "code",
   "execution_count": null,
   "id": "7f592a33",
   "metadata": {},
   "outputs": [],
   "source": [
    "model = LogisticRegression()\n",
    "model.fit(X_train,Y_train)"
   ]
  },
  {
   "cell_type": "markdown",
   "id": "8a84596b",
   "metadata": {},
   "source": [
    "model evalution"
   ]
  },
  {
   "cell_type": "code",
   "execution_count": 24,
   "id": "43cab7ef",
   "metadata": {},
   "outputs": [
    {
     "name": "stdout",
     "output_type": "stream",
     "text": [
      "the accuracy score of training data 0.951715374841169\n"
     ]
    }
   ],
   "source": [
    "#accuracy score om training data\n",
    "X_train_prediction = model.predict(X_train)\n",
    "training_data_accuracy = accuracy_score(X_train_prediction,Y_train)\n",
    "print(\"the accuracy score of training data\" , training_data_accuracy)"
   ]
  },
  {
   "cell_type": "code",
   "execution_count": null,
   "id": "9767c3f2",
   "metadata": {},
   "outputs": [],
   "source": [
    "model_test = LogisticRegression()\n",
    "model_test.fit(X_test,Y_test)"
   ]
  },
  {
   "cell_type": "code",
   "execution_count": 25,
   "id": "f237ad6d",
   "metadata": {},
   "outputs": [
    {
     "name": "stdout",
     "output_type": "stream",
     "text": [
      "the accuracy score of test data 0.949238578680203\n"
     ]
    }
   ],
   "source": [
    "X_test_prediction = model.predict(X_test)\n",
    "test_data_accuracy = accuracy_score(X_test_prediction,Y_test)\n",
    "print(\"the accuracy score of test data\" , test_data_accuracy)"
   ]
  }
 ],
 "metadata": {
  "kernelspec": {
   "display_name": "Python 3",
   "language": "python",
   "name": "python3"
  },
  "language_info": {
   "codemirror_mode": {
    "name": "ipython",
    "version": 3
   },
   "file_extension": ".py",
   "mimetype": "text/x-python",
   "name": "python",
   "nbconvert_exporter": "python",
   "pygments_lexer": "ipython3",
   "version": "3.9.13"
  }
 },
 "nbformat": 4,
 "nbformat_minor": 5
}
